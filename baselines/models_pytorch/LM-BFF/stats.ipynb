{
 "cells": [
  {
   "cell_type": "code",
   "execution_count": 1,
   "metadata": {},
   "outputs": [],
   "source": [
    "import pandas as pd"
   ]
  },
  {
   "cell_type": "code",
   "execution_count": 5,
   "metadata": {},
   "outputs": [],
   "source": [
    "cluewsc_df = pd.read_csv('/home/guoao/AI/FewCLUE/datasets/lm-bff/cluewsc/test_public.csv', index_col=False, usecols=[0, 2, 3], names=['target', 'label', 'text'])"
   ]
  },
  {
   "cell_type": "code",
   "execution_count": 6,
   "metadata": {},
   "outputs": [
    {
     "data": {
      "text/html": "<div>\n<style scoped>\n    .dataframe tbody tr th:only-of-type {\n        vertical-align: middle;\n    }\n\n    .dataframe tbody tr th {\n        vertical-align: top;\n    }\n\n    .dataframe thead th {\n        text-align: right;\n    }\n</style>\n<table border=\"1\" class=\"dataframe\">\n  <thead>\n    <tr style=\"text-align: right;\">\n      <th></th>\n      <th>target</th>\n      <th>label</th>\n      <th>text</th>\n    </tr>\n  </thead>\n  <tbody>\n    <tr>\n      <th>0</th>\n      <td>{'span2_index': 35, 'span1_index': 8, 'span1_t...</td>\n      <td>True</td>\n      <td>不过，在面子上，毛豆还下不来，一半是因为他确实很生气；另一半也是因为，他毛豆怎么能与他们做一...</td>\n    </tr>\n    <tr>\n      <th>1</th>\n      <td>{'span2_index': 28, 'span1_index': 24, 'span1_...</td>\n      <td>False</td>\n      <td>但我注意到画里有一样东西，那是一座水塔，与周围的旧楼相比它的色彩稍微艳丽了一些，想一朵高大的...</td>\n    </tr>\n    <tr>\n      <th>2</th>\n      <td>{'span2_index': 58, 'span1_index': 52, 'span1_...</td>\n      <td>False</td>\n      <td>这孩子前天在本国史班上，把清朝国姓“爱新觉罗”错记作“亲爱保罗”，给教师痛骂一顿，气得今天赖...</td>\n    </tr>\n    <tr>\n      <th>3</th>\n      <td>{'span2_index': 6, 'span1_index': 1, 'span1_te...</td>\n      <td>False</td>\n      <td>但胡雪岩了解他的内心，便不肯这么回答，只说：“你不必过虑！鹤龄跟我说过，无论如何，自保之策，...</td>\n    </tr>\n    <tr>\n      <th>4</th>\n      <td>{'span2_index': 42, 'span1_index': 27, 'span1_...</td>\n      <td>False</td>\n      <td>麦当娜在歌里唱：“给我一双高跟鞋,我就能征服世界……”男人可能不屑一顾，但是我是相信她的。</td>\n    </tr>\n    <tr>\n      <th>...</th>\n      <td>...</td>\n      <td>...</td>\n      <td>...</td>\n    </tr>\n    <tr>\n      <th>971</th>\n      <td>{'span2_index': 63, 'span1_index': 50, 'span1_...</td>\n      <td>True</td>\n      <td>郝强生吓了一跳，像是接过一个烫手的山芋一样接过了我，一脸惊讶的神色抱着我走进里面的房间，郝强...</td>\n    </tr>\n    <tr>\n      <th>972</th>\n      <td>{'span2_index': 24, 'span1_index': 20, 'span1_...</td>\n      <td>True</td>\n      <td>高广厚眼里含着泪水，过来用两条长胳膊抱起儿子，在他的脸蛋上吻了吻，说：“你跟姑姑去吧，爸爸不...</td>\n    </tr>\n    <tr>\n      <th>973</th>\n      <td>{'span2_index': 28, 'span1_index': 18, 'span1_...</td>\n      <td>True</td>\n      <td>因此，《神曲》和《追忆逝水年华》里的等待总是短暂的，然而它们却是饱满的，就像“蝴蝶虽小，同样...</td>\n    </tr>\n    <tr>\n      <th>974</th>\n      <td>{'span2_index': 54, 'span1_index': 28, 'span1_...</td>\n      <td>True</td>\n      <td>这时王渊，李质都在真定，王渊这个脓包货，固然无足轻重，但李质是刘鞈一手培裁的人，又在统带真定...</td>\n    </tr>\n    <tr>\n      <th>975</th>\n      <td>{'span2_index': 28, 'span1_index': 10, 'span1_...</td>\n      <td>True</td>\n      <td>但我注意到画里有一样东西，那是一座水塔，与周围的旧楼相比它的色彩稍微艳丽了一些，想一朵高大的...</td>\n    </tr>\n  </tbody>\n</table>\n<p>976 rows × 3 columns</p>\n</div>",
      "text/plain": "                                                target  label  \\\n0    {'span2_index': 35, 'span1_index': 8, 'span1_t...   True   \n1    {'span2_index': 28, 'span1_index': 24, 'span1_...  False   \n2    {'span2_index': 58, 'span1_index': 52, 'span1_...  False   \n3    {'span2_index': 6, 'span1_index': 1, 'span1_te...  False   \n4    {'span2_index': 42, 'span1_index': 27, 'span1_...  False   \n..                                                 ...    ...   \n971  {'span2_index': 63, 'span1_index': 50, 'span1_...   True   \n972  {'span2_index': 24, 'span1_index': 20, 'span1_...   True   \n973  {'span2_index': 28, 'span1_index': 18, 'span1_...   True   \n974  {'span2_index': 54, 'span1_index': 28, 'span1_...   True   \n975  {'span2_index': 28, 'span1_index': 10, 'span1_...   True   \n\n                                                  text  \n0    不过，在面子上，毛豆还下不来，一半是因为他确实很生气；另一半也是因为，他毛豆怎么能与他们做一...  \n1    但我注意到画里有一样东西，那是一座水塔，与周围的旧楼相比它的色彩稍微艳丽了一些，想一朵高大的...  \n2    这孩子前天在本国史班上，把清朝国姓“爱新觉罗”错记作“亲爱保罗”，给教师痛骂一顿，气得今天赖...  \n3    但胡雪岩了解他的内心，便不肯这么回答，只说：“你不必过虑！鹤龄跟我说过，无论如何，自保之策，...  \n4        麦当娜在歌里唱：“给我一双高跟鞋,我就能征服世界……”男人可能不屑一顾，但是我是相信她的。  \n..                                                 ...  \n971  郝强生吓了一跳，像是接过一个烫手的山芋一样接过了我，一脸惊讶的神色抱着我走进里面的房间，郝强...  \n972  高广厚眼里含着泪水，过来用两条长胳膊抱起儿子，在他的脸蛋上吻了吻，说：“你跟姑姑去吧，爸爸不...  \n973  因此，《神曲》和《追忆逝水年华》里的等待总是短暂的，然而它们却是饱满的，就像“蝴蝶虽小，同样...  \n974  这时王渊，李质都在真定，王渊这个脓包货，固然无足轻重，但李质是刘鞈一手培裁的人，又在统带真定...  \n975  但我注意到画里有一样东西，那是一座水塔，与周围的旧楼相比它的色彩稍微艳丽了一些，想一朵高大的...  \n\n[976 rows x 3 columns]"
     },
     "execution_count": 6,
     "metadata": {},
     "output_type": "execute_result"
    }
   ],
   "source": [
    "cluewsc_df"
   ]
  },
  {
   "cell_type": "code",
   "execution_count": 17,
   "metadata": {},
   "outputs": [
    {
     "data": {
      "text/plain": "{'span2_index': 35, 'span1_index': 8, 'span1_text': '毛豆', 'span2_text': '他'}"
     },
     "execution_count": 17,
     "metadata": {},
     "output_type": "execute_result"
    }
   ],
   "source": [
    "\n",
    "eval(cluewsc_df['target'].iloc[0])"
   ]
  },
  {
   "cell_type": "code",
   "execution_count": 18,
   "metadata": {},
   "outputs": [
    {
     "data": {
      "text/plain": "147"
     },
     "execution_count": 18,
     "metadata": {},
     "output_type": "execute_result"
    }
   ],
   "source": [
    "cluewsc_df['text'].apply(func=lambda x: len(x)).max()"
   ]
  },
  {
   "cell_type": "code",
   "execution_count": 5,
   "metadata": {},
   "outputs": [],
   "source": [
    "eprstmt_df = pd.read_csv('/home/guoao/AI/FewCLUE/datasets/lm-bff/eprstmt/test_public.csv', index_col=False, names=['id', 'text', 'label'])"
   ]
  },
  {
   "cell_type": "code",
   "execution_count": 6,
   "metadata": {},
   "outputs": [
    {
     "data": {
      "text/html": "<div>\n<style scoped>\n    .dataframe tbody tr th:only-of-type {\n        vertical-align: middle;\n    }\n\n    .dataframe tbody tr th {\n        vertical-align: top;\n    }\n\n    .dataframe thead th {\n        text-align: right;\n    }\n</style>\n<table border=\"1\" class=\"dataframe\">\n  <thead>\n    <tr style=\"text-align: right;\">\n      <th></th>\n      <th>id</th>\n      <th>text</th>\n      <th>label</th>\n    </tr>\n  </thead>\n  <tbody>\n    <tr>\n      <th>0</th>\n      <td>835</td>\n      <td>呵呵了 这物流速度也是没谁了 同城网购竟然三天了还不到</td>\n      <td>Negative</td>\n    </tr>\n    <tr>\n      <th>1</th>\n      <td>59</td>\n      <td>还不错，等试用一段时间再说</td>\n      <td>Positive</td>\n    </tr>\n    <tr>\n      <th>2</th>\n      <td>35</td>\n      <td>垃圾手机，还赶不上移动免费送的杂牌机，安装个程序卡半天，垃圾垃圾垃圾，商城也坑老顾客，早点垮了算了</td>\n      <td>Negative</td>\n    </tr>\n    <tr>\n      <th>3</th>\n      <td>65</td>\n      <td>冲满电2天没用过就没电   客服说正常的</td>\n      <td>Negative</td>\n    </tr>\n    <tr>\n      <th>4</th>\n      <td>754</td>\n      <td>买错了，自己是荣耀7，悲哀了，不管商家的事，鬼火绿</td>\n      <td>Negative</td>\n    </tr>\n    <tr>\n      <th>...</th>\n      <td>...</td>\n      <td>...</td>\n      <td>...</td>\n    </tr>\n    <tr>\n      <th>605</th>\n      <td>25</td>\n      <td>还行  低音频有一点点电流声  不是很影响</td>\n      <td>Positive</td>\n    </tr>\n    <tr>\n      <th>606</th>\n      <td>854</td>\n      <td>原来有过，但是接口是老式的usb，s8+配的是双面的，自己翻了一条三星s6的出来用，不错</td>\n      <td>Positive</td>\n    </tr>\n    <tr>\n      <th>607</th>\n      <td>1024</td>\n      <td>大品牌，东西不错，手机大了，电池也扛用了</td>\n      <td>Positive</td>\n    </tr>\n    <tr>\n      <th>608</th>\n      <td>226</td>\n      <td>三单元圈铁耳机，整个包装盒是最大的亮点，里面还配有一个皮质收纳盒，很有质感，但是耳机本身感觉...</td>\n      <td>Positive</td>\n    </tr>\n    <tr>\n      <th>609</th>\n      <td>133</td>\n      <td>满意，苹果手机直连，非常简单。连接的是42寸彩电，清晰度不错，值得推荐！</td>\n      <td>Positive</td>\n    </tr>\n  </tbody>\n</table>\n<p>610 rows × 3 columns</p>\n</div>",
      "text/plain": "       id                                               text     label\n0     835                        呵呵了 这物流速度也是没谁了 同城网购竟然三天了还不到  Negative\n1      59                                      还不错，等试用一段时间再说  Positive\n2      35  垃圾手机，还赶不上移动免费送的杂牌机，安装个程序卡半天，垃圾垃圾垃圾，商城也坑老顾客，早点垮了算了  Negative\n3      65                               冲满电2天没用过就没电   客服说正常的  Negative\n4     754                          买错了，自己是荣耀7，悲哀了，不管商家的事，鬼火绿  Negative\n..    ...                                                ...       ...\n605    25                              还行  低音频有一点点电流声  不是很影响  Positive\n606   854       原来有过，但是接口是老式的usb，s8+配的是双面的，自己翻了一条三星s6的出来用，不错  Positive\n607  1024                               大品牌，东西不错，手机大了，电池也扛用了  Positive\n608   226  三单元圈铁耳机，整个包装盒是最大的亮点，里面还配有一个皮质收纳盒，很有质感，但是耳机本身感觉...  Positive\n609   133               满意，苹果手机直连，非常简单。连接的是42寸彩电，清晰度不错，值得推荐！  Positive\n\n[610 rows x 3 columns]"
     },
     "execution_count": 6,
     "metadata": {},
     "output_type": "execute_result"
    }
   ],
   "source": [
    "eprstmt_df"
   ]
  },
  {
   "cell_type": "code",
   "execution_count": 7,
   "metadata": {},
   "outputs": [
    {
     "data": {
      "text/plain": "47.850819672131145"
     },
     "execution_count": 7,
     "metadata": {},
     "output_type": "execute_result"
    }
   ],
   "source": [
    "sum([len(x) for x in eprstmt_df['text']]) / len(eprstmt_df)"
   ]
  },
  {
   "cell_type": "code",
   "execution_count": 9,
   "metadata": {},
   "outputs": [],
   "source": [
    "iflytek_df = pd.read_csv('/home/guoao/AI/FewCLUE/datasets/lm-bff/iflytek/test_public.csv', index_col=False, names=['label_id', 'label', 'text'])"
   ]
  },
  {
   "cell_type": "code",
   "execution_count": 10,
   "metadata": {},
   "outputs": [
    {
     "data": {
      "text/html": "<div>\n<style scoped>\n    .dataframe tbody tr th:only-of-type {\n        vertical-align: middle;\n    }\n\n    .dataframe tbody tr th {\n        vertical-align: top;\n    }\n\n    .dataframe thead th {\n        text-align: right;\n    }\n</style>\n<table border=\"1\" class=\"dataframe\">\n  <thead>\n    <tr style=\"text-align: right;\">\n      <th></th>\n      <th>label_id</th>\n      <th>label</th>\n      <th>text</th>\n    </tr>\n  </thead>\n  <tbody>\n    <tr>\n      <th>0</th>\n      <td>10</td>\n      <td>社区服务</td>\n      <td>小区生活必备软件，你的邻居都在用,叮咚买菜，29分钟生鲜到家,修复已知的bug</td>\n    </tr>\n    <tr>\n      <th>1</th>\n      <td>10</td>\n      <td>社区服务</td>\n      <td>车置宝一个专注收车的网站车置宝创立于2012年10月，是专业的二手车C2B跨区域交易平台。通...</td>\n    </tr>\n    <tr>\n      <th>2</th>\n      <td>10</td>\n      <td>社区服务</td>\n      <td>彩乐园全方位数据服务开奖同步实时同步更新开奖结果；彩种丰富覆盖全国各大高低频彩彩种；智能过滤...</td>\n    </tr>\n    <tr>\n      <th>3</th>\n      <td>10</td>\n      <td>社区服务</td>\n      <td>实惠APP美好社区生活，尽在实惠APP实惠APP为您提供物业服务、房屋服务、金融服务、到家服...</td>\n    </tr>\n    <tr>\n      <th>4</th>\n      <td>10</td>\n      <td>社区服务</td>\n      <td>悦嘉家APP是南都物业自主开发的，致力为南都业主打造便捷的物业服务、生活服务、邻里交流与商圈...</td>\n    </tr>\n    <tr>\n      <th>...</th>\n      <td>...</td>\n      <td>...</td>\n      <td>...</td>\n    </tr>\n    <tr>\n      <th>1744</th>\n      <td>77</td>\n      <td>日常养车</td>\n      <td>买高端车全车件，用开思汽配APP◇新客大礼1888元新人礼包。◇正品行货精选5源头供应商◇极...</td>\n    </tr>\n    <tr>\n      <th>1745</th>\n      <td>77</td>\n      <td>日常养车</td>\n      <td>本APP是专门为安卓系统开发的汽车轮胎压力监测系统TPMS应用软件。通过安装在轮胎的传感器来...</td>\n    </tr>\n    <tr>\n      <th>1746</th>\n      <td>77</td>\n      <td>日常养车</td>\n      <td>中油好客e站APP，是一款面向所有加油客户的自助服务客户端软件，以加油移动支付和加油卡服务为...</td>\n    </tr>\n    <tr>\n      <th>1747</th>\n      <td>37</td>\n      <td>技术</td>\n      <td>这款应用面向所有想学习Java或正在学习Java的朋友们，适用于初学者和有一定java开发经...</td>\n    </tr>\n    <tr>\n      <th>1748</th>\n      <td>37</td>\n      <td>技术</td>\n      <td>建筑学院，是一款专为建筑设计师所开发的精品应用，输出大量优质的设计案例、行业知识、经验见解，...</td>\n    </tr>\n  </tbody>\n</table>\n<p>1749 rows × 3 columns</p>\n</div>",
      "text/plain": "      label_id label                                               text\n0           10  社区服务            小区生活必备软件，你的邻居都在用,叮咚买菜，29分钟生鲜到家,修复已知的bug\n1           10  社区服务  车置宝一个专注收车的网站车置宝创立于2012年10月，是专业的二手车C2B跨区域交易平台。通...\n2           10  社区服务  彩乐园全方位数据服务开奖同步实时同步更新开奖结果；彩种丰富覆盖全国各大高低频彩彩种；智能过滤...\n3           10  社区服务  实惠APP美好社区生活，尽在实惠APP实惠APP为您提供物业服务、房屋服务、金融服务、到家服...\n4           10  社区服务  悦嘉家APP是南都物业自主开发的，致力为南都业主打造便捷的物业服务、生活服务、邻里交流与商圈...\n...        ...   ...                                                ...\n1744        77  日常养车  买高端车全车件，用开思汽配APP◇新客大礼1888元新人礼包。◇正品行货精选5源头供应商◇极...\n1745        77  日常养车  本APP是专门为安卓系统开发的汽车轮胎压力监测系统TPMS应用软件。通过安装在轮胎的传感器来...\n1746        77  日常养车  中油好客e站APP，是一款面向所有加油客户的自助服务客户端软件，以加油移动支付和加油卡服务为...\n1747        37    技术  这款应用面向所有想学习Java或正在学习Java的朋友们，适用于初学者和有一定java开发经...\n1748        37    技术  建筑学院，是一款专为建筑设计师所开发的精品应用，输出大量优质的设计案例、行业知识、经验见解，...\n\n[1749 rows x 3 columns]"
     },
     "execution_count": 10,
     "metadata": {},
     "output_type": "execute_result"
    }
   ],
   "source": [
    "iflytek_df"
   ]
  },
  {
   "cell_type": "code",
   "execution_count": 11,
   "metadata": {},
   "outputs": [
    {
     "data": {
      "text/plain": "289.0531732418525"
     },
     "execution_count": 11,
     "metadata": {},
     "output_type": "execute_result"
    }
   ],
   "source": [
    "sum([len(x) for x in iflytek_df['text']]) / len(iflytek_df)"
   ]
  },
  {
   "cell_type": "code",
   "execution_count": 9,
   "metadata": {},
   "outputs": [
    {
     "data": {
      "text/html": "<div>\n<style scoped>\n    .dataframe tbody tr th:only-of-type {\n        vertical-align: middle;\n    }\n\n    .dataframe tbody tr th {\n        vertical-align: top;\n    }\n\n    .dataframe thead th {\n        text-align: right;\n    }\n</style>\n<table border=\"1\" class=\"dataframe\">\n  <thead>\n    <tr style=\"text-align: right;\">\n      <th></th>\n      <th>label_id</th>\n      <th>label</th>\n    </tr>\n  </thead>\n  <tbody>\n    <tr>\n      <th>0</th>\n      <td>10</td>\n      <td>社区服务</td>\n    </tr>\n    <tr>\n      <th>30</th>\n      <td>70</td>\n      <td>工具</td>\n    </tr>\n    <tr>\n      <th>60</th>\n      <td>36</td>\n      <td>小说</td>\n    </tr>\n    <tr>\n      <th>90</th>\n      <td>8</td>\n      <td>公共交通</td>\n    </tr>\n    <tr>\n      <th>120</th>\n      <td>58</td>\n      <td>高等教育</td>\n    </tr>\n    <tr>\n      <th>...</th>\n      <td>...</td>\n      <td>...</td>\n    </tr>\n    <tr>\n      <th>1714</th>\n      <td>78</td>\n      <td>行车辅助</td>\n    </tr>\n    <tr>\n      <th>1733</th>\n      <td>0</td>\n      <td>打车</td>\n    </tr>\n    <tr>\n      <th>1735</th>\n      <td>117</td>\n      <td>收款</td>\n    </tr>\n    <tr>\n      <th>1737</th>\n      <td>77</td>\n      <td>日常养车</td>\n    </tr>\n    <tr>\n      <th>1747</th>\n      <td>37</td>\n      <td>技术</td>\n    </tr>\n  </tbody>\n</table>\n<p>98 rows × 2 columns</p>\n</div>",
      "text/plain": "      label_id label\n0           10  社区服务\n30          70    工具\n60          36    小说\n90           8  公共交通\n120         58  高等教育\n...        ...   ...\n1714        78  行车辅助\n1733         0    打车\n1735       117    收款\n1737        77  日常养车\n1747        37    技术\n\n[98 rows x 2 columns]"
     },
     "execution_count": 9,
     "metadata": {},
     "output_type": "execute_result"
    }
   ],
   "source": [
    "iflytek_df[['label_id', 'label']].drop_duplicates()"
   ]
  },
  {
   "cell_type": "code",
   "execution_count": 10,
   "metadata": {},
   "outputs": [],
   "source": [
    "label_id2label = {i: l for i, l in iflytek_df[['label_id', 'label']].drop_duplicates().itertuples(index=False, name=None)}"
   ]
  },
  {
   "cell_type": "code",
   "execution_count": 11,
   "metadata": {},
   "outputs": [
    {
     "data": {
      "text/plain": "{10: '社区服务',\n 70: '工具',\n 36: '小说',\n 8: '公共交通',\n 58: '高等教育',\n 17: '休闲益智',\n 115: '女性',\n 71: '亲子儿童',\n 106: '电商',\n 97: '彩票',\n 18: '动作类',\n 25: '约会社交',\n 96: '理财',\n 24: '辅助工具',\n 95: '借贷',\n 63: '综合预定',\n 118: '其他',\n 47: '短视频',\n 82: '电子产品',\n 53: '中小学',\n 45: '兼职',\n 26: '即时通讯',\n 34: '新闻',\n 22: '策略',\n 113: '办公',\n 81: '装修家居',\n 28: '论坛圈子',\n 56: '英语',\n 21: '经营养成',\n 94: '股票',\n 14: '卡牌',\n 20: '棋牌中心',\n 110: '社区超市',\n 91: '运动健身',\n 16: '射击游戏',\n 1: '地图导航',\n 83: '问诊挂号',\n 76: '汽车交易',\n 85: '医疗服务',\n 48: '音乐',\n 98: '记账',\n 62: '旅游资讯',\n 46: '视频',\n 64: '民航',\n 101: '影像剪辑',\n 12: '魔幻',\n 116: '经营',\n 84: '养生保健',\n 59: '成人教育',\n 111: '购物咨询',\n 80: '买房',\n 38: '教辅',\n 29: '婚恋社交',\n 102: '摄影修图',\n 31: '社交工具',\n 35: '漫画',\n 13: '仙侠',\n 93: '保险',\n 3: '租车',\n 104: '绘画',\n 49: '直播',\n 11: '薅羊毛',\n 9: '政务',\n 74: '违章',\n 99: '银行',\n 73: '驾校',\n 103: '相机',\n 54: '职考',\n 88: '菜谱',\n 4: '同城服务',\n 15: '飞行空战',\n 87: '美妆美业',\n 109: '电影票务',\n 61: '语言(非英语)',\n 72: '母婴',\n 33: '微博博客',\n 41: '杂志',\n 39: '问答交流',\n 60: '艺术',\n 90: '体育咨讯',\n 107: '团购',\n 19: '体育竞技',\n 44: '求职',\n 75: '汽车咨询',\n 5: '快递物流',\n 92: '支付',\n 105: '二手',\n 112: '笔记',\n 57: '视频教育',\n 50: '电台',\n 23: 'MOBA',\n 100: '美颜',\n 2: '免费WIFI',\n 78: '行车辅助',\n 0: '打车',\n 117: '收款',\n 77: '日常养车',\n 37: '技术'}"
     },
     "execution_count": 11,
     "metadata": {},
     "output_type": "execute_result"
    }
   ],
   "source": [
    "label_id2label"
   ]
  },
  {
   "cell_type": "code",
   "execution_count": 6,
   "metadata": {},
   "outputs": [
    {
     "data": {
      "text/plain": [
       "118    8\n",
       "44     8\n",
       "32     8\n",
       "33     8\n",
       "34     8\n",
       "      ..\n",
       "67     5\n",
       "89     5\n",
       "6      3\n",
       "69     2\n",
       "68     1\n",
       "Name: label_id, Length: 119, dtype: int64"
      ]
     },
     "execution_count": 6,
     "metadata": {},
     "output_type": "execute_result"
    }
   ],
   "source": [
    "dev_df['label_id'].value_counts()"
   ]
  },
  {
   "cell_type": "code",
   "execution_count": 7,
   "metadata": {},
   "outputs": [
    {
     "data": {
      "text/plain": [
       "True"
      ]
     },
     "execution_count": 7,
     "metadata": {},
     "output_type": "execute_result"
    }
   ],
   "source": [
    "sorted(dev_df['label_id'].unique()) == list(range(max(dev_df['label_id'] + 1)))"
   ]
  },
  {
   "cell_type": "code",
   "execution_count": 8,
   "metadata": {},
   "outputs": [
    {
     "data": {
      "text/plain": [
       "118"
      ]
     },
     "execution_count": 8,
     "metadata": {},
     "output_type": "execute_result"
    }
   ],
   "source": [
    "dev_df['label_id'].max()"
   ]
  },
  {
   "cell_type": "code",
   "execution_count": 9,
   "metadata": {},
   "outputs": [
    {
     "data": {
      "text/html": "<div>\n<style scoped>\n    .dataframe tbody tr th:only-of-type {\n        vertical-align: middle;\n    }\n\n    .dataframe tbody tr th {\n        vertical-align: top;\n    }\n\n    .dataframe thead th {\n        text-align: right;\n    }\n</style>\n<table border=\"1\" class=\"dataframe\">\n  <thead>\n    <tr style=\"text-align: right;\">\n      <th></th>\n      <th>label_id</th>\n      <th>label</th>\n    </tr>\n  </thead>\n  <tbody>\n    <tr>\n      <th>0</th>\n      <td>8</td>\n      <td>公共交通</td>\n    </tr>\n    <tr>\n      <th>1</th>\n      <td>30</td>\n      <td>情侣社交</td>\n    </tr>\n    <tr>\n      <th>2</th>\n      <td>102</td>\n      <td>摄影修图</td>\n    </tr>\n    <tr>\n      <th>3</th>\n      <td>58</td>\n      <td>高等教育</td>\n    </tr>\n    <tr>\n      <th>4</th>\n      <td>42</td>\n      <td>百科</td>\n    </tr>\n    <tr>\n      <th>...</th>\n      <td>...</td>\n      <td>...</td>\n    </tr>\n    <tr>\n      <th>360</th>\n      <td>14</td>\n      <td>卡牌</td>\n    </tr>\n    <tr>\n      <th>367</th>\n      <td>88</td>\n      <td>菜谱</td>\n    </tr>\n    <tr>\n      <th>388</th>\n      <td>33</td>\n      <td>微博博客</td>\n    </tr>\n    <tr>\n      <th>429</th>\n      <td>69</td>\n      <td>出国</td>\n    </tr>\n    <tr>\n      <th>469</th>\n      <td>12</td>\n      <td>魔幻</td>\n    </tr>\n  </tbody>\n</table>\n<p>119 rows × 2 columns</p>\n</div>",
      "text/plain": [
       "     label_id label\n",
       "0           8  公共交通\n",
       "1          30  情侣社交\n",
       "2         102  摄影修图\n",
       "3          58  高等教育\n",
       "4          42    百科\n",
       "..        ...   ...\n",
       "360        14    卡牌\n",
       "367        88    菜谱\n",
       "388        33  微博博客\n",
       "429        69    出国\n",
       "469        12    魔幻\n",
       "\n",
       "[119 rows x 2 columns]"
      ]
     },
     "execution_count": 9,
     "metadata": {},
     "output_type": "execute_result"
    }
   ],
   "source": [
    "dev_df[['label_id', 'label']].drop_duplicates()"
   ]
  },
  {
   "cell_type": "code",
   "execution_count": 10,
   "metadata": {},
   "outputs": [],
   "source": [
    "label_mapping = {}\n",
    "for row in dev_df[['label_id', 'label']].drop_duplicates().itertuples(index=False):\n",
    "    label_mapping[row.label_id] = row.label"
   ]
  },
  {
   "cell_type": "code",
   "execution_count": 11,
   "metadata": {},
   "outputs": [
    {
     "name": "stdout",
     "output_type": "stream",
     "text": [
      "{8: '公共交通', 30: '情侣社交', 102: '摄影修图', 58: '高等教育', 42: '百科', 99: '银行', 47: '短视频', 72: '母婴', 46: '视频', 80: '买房', 82: '电子产品', 116: '经营', 38: '教辅', 21: '经营养成', 92: '支付', 1: '地图导航', 87: '美妆美业', 66: '酒店', 83: '问诊挂号', 73: '驾校', 41: '杂志', 51: 'K歌', 23: 'MOBA', 105: '二手', 61: '语言(非英语)', 67: '行程管理', 111: '购物咨询', 26: '即时通讯', 74: '违章', 96: '理财', 20: '棋牌中心', 103: '相机', 84: '养生保健', 53: '中小学', 65: '铁路', 19: '体育竞技', 52: '成人', 75: '汽车咨询', 10: '社区服务', 55: '公务员', 112: '笔记', 24: '辅助工具', 81: '装修家居', 101: '影像剪辑', 63: '综合预定', 62: '旅游资讯', 29: '婚恋社交', 2: '免费WIFI', 115: '女性', 85: '医疗服务', 100: '美颜', 108: '外卖', 43: '影视娱乐', 44: '求职', 17: '休闲益智', 106: '电商', 118: '其他', 13: '仙侠', 28: '论坛圈子', 77: '日常养车', 25: '约会社交', 71: '亲子儿童', 94: '股票', 37: '技术', 90: '体育咨讯', 54: '职考', 91: '运动健身', 11: '薅羊毛', 39: '问答交流', 27: '工作社交', 36: '小说', 49: '直播', 59: '成人教育', 5: '快递物流', 56: '英语', 93: '保险', 104: '绘画', 64: '民航', 86: '减肥瘦身', 97: '彩票', 109: '电影票务', 107: '团购', 45: '兼职', 60: '艺术', 70: '工具', 79: '租房', 48: '音乐', 95: '借贷', 110: '社区超市', 7: '家政', 32: '生活社交', 113: '办公', 76: '汽车交易', 78: '行车辅助', 16: '射击游戏', 15: '飞行空战', 98: '记账', 114: '日程管理', 40: '搞笑', 9: '政务', 0: '打车', 22: '策略', 18: '动作类', 117: '收款', 68: '民宿短租', 3: '租车', 57: '视频教育', 34: '新闻', 35: '漫画', 31: '社交工具', 89: '餐饮店', 6: '婚庆', 50: '电台', 4: '同城服务', 14: '卡牌', 88: '菜谱', 33: '微博博客', 69: '出国', 12: '魔幻'}\n"
     ]
    }
   ],
   "source": [
    "print(label_mapping)"
   ]
  },
  {
   "cell_type": "code",
   "execution_count": 12,
   "metadata": {},
   "outputs": [],
   "source": [
    "train_df = pd.read_csv('/home/guoao/AI/FewCLUE/datasets/lm-bff/tnews/train_0.csv', index_col=False, names=['label', 'label_desc', 'sentence', 'keywords', 'id'])"
   ]
  },
  {
   "cell_type": "code",
   "execution_count": 13,
   "metadata": {},
   "outputs": [
    {
     "data": {
      "text/html": "<div>\n<style scoped>\n    .dataframe tbody tr th:only-of-type {\n        vertical-align: middle;\n    }\n\n    .dataframe tbody tr th {\n        vertical-align: top;\n    }\n\n    .dataframe thead th {\n        text-align: right;\n    }\n</style>\n<table border=\"1\" class=\"dataframe\">\n  <thead>\n    <tr style=\"text-align: right;\">\n      <th></th>\n      <th>label</th>\n      <th>label_desc</th>\n      <th>sentence</th>\n      <th>keywords</th>\n      <th>id</th>\n    </tr>\n  </thead>\n  <tbody>\n    <tr>\n      <th>0</th>\n      <td>102</td>\n      <td>news_entertainment</td>\n      <td>为何农民工每天日夜加班却没有网红在家里直播几天的收入高？</td>\n      <td>NaN</td>\n      <td>5890</td>\n    </tr>\n    <tr>\n      <th>1</th>\n      <td>107</td>\n      <td>news_car</td>\n      <td>文登区这些公路及危桥将进入封闭施工，请注意绕行！</td>\n      <td>农村公路,文登区</td>\n      <td>3301</td>\n    </tr>\n    <tr>\n      <th>2</th>\n      <td>107</td>\n      <td>news_car</td>\n      <td>前车主路突然停车，后车刹车不及时撞上去了，这个责任怎么算？</td>\n      <td>前车,后车</td>\n      <td>5830</td>\n    </tr>\n    <tr>\n      <th>3</th>\n      <td>106</td>\n      <td>news_house</td>\n      <td>怎样的房子才算户型方正？</td>\n      <td>NaN</td>\n      <td>47684</td>\n    </tr>\n    <tr>\n      <th>4</th>\n      <td>101</td>\n      <td>news_culture</td>\n      <td>武当山传说故事｜太子修仙路，母亲把情牵</td>\n      <td>御花园,武当山,真武大帝,十八盘,太子</td>\n      <td>16113</td>\n    </tr>\n    <tr>\n      <th>...</th>\n      <td>...</td>\n      <td>...</td>\n      <td>...</td>\n      <td>...</td>\n      <td>...</td>\n    </tr>\n    <tr>\n      <th>235</th>\n      <td>103</td>\n      <td>news_sports</td>\n      <td>因痛失比赛而落泪的职业选手 让人感到心疼</td>\n      <td>faker,SKT,大魔王,职业选手,小组赛</td>\n      <td>48078</td>\n    </tr>\n    <tr>\n      <th>236</th>\n      <td>100</td>\n      <td>news_story</td>\n      <td>「房」不胜防</td>\n      <td>牛盘金,房产证,胡美云,大盖帽,温天宝</td>\n      <td>24773</td>\n    </tr>\n    <tr>\n      <th>237</th>\n      <td>114</td>\n      <td>news_stock</td>\n      <td>富士康创新发行方式 大面积锁股减冲击</td>\n      <td>投资者,富士康,股份锁定期,发行人,招股说明书</td>\n      <td>10068</td>\n    </tr>\n    <tr>\n      <th>238</th>\n      <td>114</td>\n      <td>news_stock</td>\n      <td>次新股上市第一天如何买进？</td>\n      <td>次新股,新股,封涨停,四舍五入,发行价</td>\n      <td>10608</td>\n    </tr>\n    <tr>\n      <th>239</th>\n      <td>110</td>\n      <td>news_military</td>\n      <td>阿富汗毛驴都不用干活？全被训练来作为重要的军事”武器”</td>\n      <td>悍马,装甲车,毛驴,阿富汗,直升机</td>\n      <td>45988</td>\n    </tr>\n  </tbody>\n</table>\n<p>240 rows × 5 columns</p>\n</div>",
      "text/plain": [
       "     label          label_desc                       sentence  \\\n",
       "0      102  news_entertainment   为何农民工每天日夜加班却没有网红在家里直播几天的收入高？   \n",
       "1      107            news_car       文登区这些公路及危桥将进入封闭施工，请注意绕行！   \n",
       "2      107            news_car  前车主路突然停车，后车刹车不及时撞上去了，这个责任怎么算？   \n",
       "3      106          news_house                   怎样的房子才算户型方正？   \n",
       "4      101        news_culture            武当山传说故事｜太子修仙路，母亲把情牵   \n",
       "..     ...                 ...                            ...   \n",
       "235    103         news_sports           因痛失比赛而落泪的职业选手 让人感到心疼   \n",
       "236    100          news_story                         「房」不胜防   \n",
       "237    114          news_stock             富士康创新发行方式 大面积锁股减冲击   \n",
       "238    114          news_stock                  次新股上市第一天如何买进？   \n",
       "239    110       news_military    阿富汗毛驴都不用干活？全被训练来作为重要的军事”武器”   \n",
       "\n",
       "                    keywords     id  \n",
       "0                        NaN   5890  \n",
       "1                   农村公路,文登区   3301  \n",
       "2                      前车,后车   5830  \n",
       "3                        NaN  47684  \n",
       "4        御花园,武当山,真武大帝,十八盘,太子  16113  \n",
       "..                       ...    ...  \n",
       "235   faker,SKT,大魔王,职业选手,小组赛  48078  \n",
       "236      牛盘金,房产证,胡美云,大盖帽,温天宝  24773  \n",
       "237  投资者,富士康,股份锁定期,发行人,招股说明书  10068  \n",
       "238      次新股,新股,封涨停,四舍五入,发行价  10608  \n",
       "239        悍马,装甲车,毛驴,阿富汗,直升机  45988  \n",
       "\n",
       "[240 rows x 5 columns]"
      ]
     },
     "execution_count": 13,
     "metadata": {},
     "output_type": "execute_result"
    }
   ],
   "source": [
    "train_df"
   ]
  },
  {
   "cell_type": "code",
   "execution_count": 14,
   "metadata": {},
   "outputs": [
    {
     "data": {
      "text/plain": [
       "[(100, 'news_story'),\n",
       " (101, 'news_culture'),\n",
       " (102, 'news_entertainment'),\n",
       " (103, 'news_sports'),\n",
       " (104, 'news_finance'),\n",
       " (106, 'news_house'),\n",
       " (107, 'news_car'),\n",
       " (108, 'news_edu'),\n",
       " (109, 'news_tech'),\n",
       " (110, 'news_military'),\n",
       " (112, 'news_travel'),\n",
       " (113, 'news_world'),\n",
       " (114, 'news_stock'),\n",
       " (115, 'news_agriculture'),\n",
       " (116, 'news_game')]"
      ]
     },
     "execution_count": 14,
     "metadata": {},
     "output_type": "execute_result"
    }
   ],
   "source": [
    "sorted(train_df[['label', 'label_desc']].drop_duplicates().itertuples(index=False, name=None), key=lambda x: x[0])"
   ]
  },
  {
   "cell_type": "code",
   "execution_count": 15,
   "metadata": {},
   "outputs": [],
   "source": [
    "label_mapping = [(100, '故事'),\n",
    " (101, '文化'),\n",
    " (102, '娱乐'),\n",
    " (103, '体育'),\n",
    " (104, '财经'),\n",
    " (106, '房地产'),\n",
    " (107, '汽车'),\n",
    " (108, '教育'),\n",
    " (109, '科技'),\n",
    " (110, '军事'),\n",
    " (112, '旅游'),\n",
    " (113, '国际'),\n",
    " (114, '股市'),\n",
    " (115, '农业'),\n",
    " (116, '游戏')]"
   ]
  },
  {
   "cell_type": "code",
   "execution_count": 16,
   "metadata": {},
   "outputs": [
    {
     "name": "stdout",
     "output_type": "stream",
     "text": [
      "{100: '故事', 101: '文化', 102: '娱乐', 103: '体育', 104: '财经', 106: '房地产', 107: '汽车', 108: '教育', 109: '科技', 110: '军事', 112: '旅游', 113: '国际', 114: '股市', 115: '农业', 116: '游戏'}\n"
     ]
    }
   ],
   "source": [
    "print(dict(label_mapping))"
   ]
  },
  {
   "cell_type": "code",
   "execution_count": 2,
   "metadata": {},
   "outputs": [],
   "source": [
    "tnews_df = pd.read_csv('/home/guoao/AI/FewCLUE/datasets/lm-bff/tnews/test_public.csv', index_col=False, names=['label', 'label_desc', 'sentence', 'keywords', 'id'])"
   ]
  },
  {
   "cell_type": "code",
   "execution_count": 3,
   "metadata": {},
   "outputs": [
    {
     "data": {
      "text/html": "<div>\n<style scoped>\n    .dataframe tbody tr th:only-of-type {\n        vertical-align: middle;\n    }\n\n    .dataframe tbody tr th {\n        vertical-align: top;\n    }\n\n    .dataframe thead th {\n        text-align: right;\n    }\n</style>\n<table border=\"1\" class=\"dataframe\">\n  <thead>\n    <tr style=\"text-align: right;\">\n      <th></th>\n      <th>label</th>\n      <th>label_desc</th>\n      <th>sentence</th>\n      <th>keywords</th>\n      <th>id</th>\n    </tr>\n  </thead>\n  <tbody>\n    <tr>\n      <th>0</th>\n      <td>100</td>\n      <td>news_story</td>\n      <td>农村依然很重视土葬</td>\n      <td>民间艺人,农村,东方ic,东方IC</td>\n      <td>0</td>\n    </tr>\n    <tr>\n      <th>1</th>\n      <td>100</td>\n      <td>news_story</td>\n      <td>传奇侠盗燕子李三，下场凄凉，死后更是无人埋葬</td>\n      <td>李景华,张宗昌,警备司令,梁鸿志,白坚武</td>\n      <td>40</td>\n    </tr>\n    <tr>\n      <th>2</th>\n      <td>100</td>\n      <td>news_story</td>\n      <td>婆婆，我是倒贴媳妇，想用我的房子给你儿子结婚，没门！</td>\n      <td>小叔子,助学贷款,最后通牒</td>\n      <td>129</td>\n    </tr>\n    <tr>\n      <th>3</th>\n      <td>100</td>\n      <td>news_story</td>\n      <td>参加同学婚礼被嘲笑大龄单身，郁闷想逃男神搂住我：考虑一下我</td>\n      <td>冯子坤,晓尊,埃尔加,教研室,纸飞机,生日快乐,吴瑕,明天见,毒舌男友有点甜,田歆,卓言之</td>\n      <td>160</td>\n    </tr>\n    <tr>\n      <th>4</th>\n      <td>100</td>\n      <td>news_story</td>\n      <td>女子半夜上厕所，发现坑里有眼睛盯着她，警察赶来忍不住笑了</td>\n      <td>茶杯犬,厕所,警察</td>\n      <td>204</td>\n    </tr>\n    <tr>\n      <th>...</th>\n      <td>...</td>\n      <td>...</td>\n      <td>...</td>\n      <td>...</td>\n      <td>...</td>\n    </tr>\n    <tr>\n      <th>2005</th>\n      <td>114</td>\n      <td>news_stock</td>\n      <td>如果房地产未来不是最好投资方向，会转什么行业呢？</td>\n      <td>房地产,债券,P2P,房产,风险投资</td>\n      <td>34586</td>\n    </tr>\n    <tr>\n      <th>2006</th>\n      <td>114</td>\n      <td>news_stock</td>\n      <td>如何评价：刘姝威的《严惩做空中国股市者》？</td>\n      <td>做空,中国股市,非理性,恶意做空,股市</td>\n      <td>34763</td>\n    </tr>\n    <tr>\n      <th>2007</th>\n      <td>114</td>\n      <td>news_stock</td>\n      <td>股票放量下趺，大资金出逃谁在接盘？</td>\n      <td>股票,主力资金,放量</td>\n      <td>34969</td>\n    </tr>\n    <tr>\n      <th>2008</th>\n      <td>114</td>\n      <td>news_stock</td>\n      <td>部分上市公司自然人股东持股数量保持增长态势</td>\n      <td>沙河股份,流通股东席位,自然人股东,机构投资者,十大流通股东,上市</td>\n      <td>35303</td>\n    </tr>\n    <tr>\n      <th>2009</th>\n      <td>114</td>\n      <td>news_stock</td>\n      <td>小米就要港股上市了，那么为什么选择香港而没有选择上海？</td>\n      <td>NaN</td>\n      <td>35535</td>\n    </tr>\n  </tbody>\n</table>\n<p>2010 rows × 5 columns</p>\n</div>",
      "text/plain": "      label  label_desc                       sentence  \\\n0       100  news_story                      农村依然很重视土葬   \n1       100  news_story         传奇侠盗燕子李三，下场凄凉，死后更是无人埋葬   \n2       100  news_story     婆婆，我是倒贴媳妇，想用我的房子给你儿子结婚，没门！   \n3       100  news_story  参加同学婚礼被嘲笑大龄单身，郁闷想逃男神搂住我：考虑一下我   \n4       100  news_story   女子半夜上厕所，发现坑里有眼睛盯着她，警察赶来忍不住笑了   \n...     ...         ...                            ...   \n2005    114  news_stock       如果房地产未来不是最好投资方向，会转什么行业呢？   \n2006    114  news_stock          如何评价：刘姝威的《严惩做空中国股市者》？   \n2007    114  news_stock              股票放量下趺，大资金出逃谁在接盘？   \n2008    114  news_stock          部分上市公司自然人股东持股数量保持增长态势   \n2009    114  news_stock    小米就要港股上市了，那么为什么选择香港而没有选择上海？   \n\n                                           keywords     id  \n0                                 民间艺人,农村,东方ic,东方IC      0  \n1                              李景华,张宗昌,警备司令,梁鸿志,白坚武     40  \n2                                     小叔子,助学贷款,最后通牒    129  \n3     冯子坤,晓尊,埃尔加,教研室,纸飞机,生日快乐,吴瑕,明天见,毒舌男友有点甜,田歆,卓言之    160  \n4                                         茶杯犬,厕所,警察    204  \n...                                             ...    ...  \n2005                             房地产,债券,P2P,房产,风险投资  34586  \n2006                            做空,中国股市,非理性,恶意做空,股市  34763  \n2007                                     股票,主力资金,放量  34969  \n2008              沙河股份,流通股东席位,自然人股东,机构投资者,十大流通股东,上市  35303  \n2009                                            NaN  35535  \n\n[2010 rows x 5 columns]"
     },
     "execution_count": 3,
     "metadata": {},
     "output_type": "execute_result"
    }
   ],
   "source": [
    "tnews_df"
   ]
  },
  {
   "cell_type": "code",
   "execution_count": 4,
   "metadata": {},
   "outputs": [
    {
     "data": {
      "text/plain": "22.076119402985075"
     },
     "execution_count": 4,
     "metadata": {},
     "output_type": "execute_result"
    }
   ],
   "source": [
    "sum([len(x) for x in tnews_df['sentence']]) / len(tnews_df)"
   ]
  },
  {
   "cell_type": "code",
   "execution_count": 24,
   "metadata": {},
   "outputs": [],
   "source": [
    "train_df = pd.read_csv('/home/guoao/AI/FewCLUE/datasets/lm-bff/ocnli/test_public.csv', index_col=False, names=['sentence1', 'sentence2', 'label'], usecols=[1, 2, 3])"
   ]
  },
  {
   "cell_type": "code",
   "execution_count": 25,
   "metadata": {},
   "outputs": [
    {
     "data": {
      "text/html": "<div>\n<style scoped>\n    .dataframe tbody tr th:only-of-type {\n        vertical-align: middle;\n    }\n\n    .dataframe tbody tr th {\n        vertical-align: top;\n    }\n\n    .dataframe thead th {\n        text-align: right;\n    }\n</style>\n<table border=\"1\" class=\"dataframe\">\n  <thead>\n    <tr style=\"text-align: right;\">\n      <th></th>\n      <th>sentence1</th>\n      <th>sentence2</th>\n      <th>label</th>\n    </tr>\n  </thead>\n  <tbody>\n    <tr>\n      <th>0</th>\n      <td>七五期间开始,国家又投资将武汉市区的部分土堤改建为钢筋泥凝土防水墙</td>\n      <td>八五期间会把剩下的土堤都改建完</td>\n      <td>neutral</td>\n    </tr>\n    <tr>\n      <th>1</th>\n      <td>相反,一些小摊小贩乘机抬高食品的价格,主要是风味小吃和饮料,来抠我们本已羞涩的腰包</td>\n      <td>我们手头目前都比较宽裕</td>\n      <td>contradiction</td>\n    </tr>\n    <tr>\n      <th>2</th>\n      <td>它是没有章法,乱了套的,也不按规矩来,到哪算哪的,有点流氓地痞气的</td>\n      <td>这里章法指的是中华人民共和国宪法</td>\n      <td>neutral</td>\n    </tr>\n    <tr>\n      <th>3</th>\n      <td>我们要继续向贫困宣战,决不让贫困代代相传</td>\n      <td>贫困现象已经有所好转。</td>\n      <td>neutral</td>\n    </tr>\n    <tr>\n      <th>4</th>\n      <td>她又说:阿二怎么养阿姐呢</td>\n      <td>她从没听说过阿二和阿姐</td>\n      <td>contradiction</td>\n    </tr>\n    <tr>\n      <th>5</th>\n      <td>张永红禁不住惭愧地想:她们这时代的时尚,只不过是前朝几代的零头,她们要补的课实在太多了</td>\n      <td>张永红为她们这个时代的时尚感到骄傲</td>\n      <td>contradiction</td>\n    </tr>\n    <tr>\n      <th>6</th>\n      <td>中国一贯奉行独立自主的和平外交政策,支持世界人民的正义事业,反对霸权主义,维护世界和平,促进...</td>\n      <td>我国只注重自己发展</td>\n      <td>contradiction</td>\n    </tr>\n    <tr>\n      <th>7</th>\n      <td>年内要重点抓好五个方面</td>\n      <td>要重点避免这五个方面</td>\n      <td>contradiction</td>\n    </tr>\n    <tr>\n      <th>8</th>\n      <td>散会后,几个负责人边走边议论说:刁市长动真格啦</td>\n      <td>几个负责人没有参加会议</td>\n      <td>contradiction</td>\n    </tr>\n    <tr>\n      <th>9</th>\n      <td>通过增加居民收入提高消费能力,完善消费政策,培育消费热点</td>\n      <td>消费是经济增长的重要因素。</td>\n      <td>entailment</td>\n    </tr>\n    <tr>\n      <th>10</th>\n      <td>其实我觉得你不懂球啊</td>\n      <td>你不懂篮球。</td>\n      <td>neutral</td>\n    </tr>\n    <tr>\n      <th>11</th>\n      <td>散步后,小平同志在省市负责人陪同下,乘车观光深圳市容</td>\n      <td>省市负责人是深圳的</td>\n      <td>entailment</td>\n    </tr>\n    <tr>\n      <th>12</th>\n      <td>你看潘老师,这是主要符合观众特点的</td>\n      <td>潘老师是一名受到观众欢迎的演员</td>\n      <td>neutral</td>\n    </tr>\n    <tr>\n      <th>13</th>\n      <td>,“我瞅你咋地</td>\n      <td>我就要瞅你</td>\n      <td>entailment</td>\n    </tr>\n    <tr>\n      <th>14</th>\n      <td>柔弱如王琦瑶,除了耐心还有什么可作争取的武器</td>\n      <td>王琦瑶做事情很急躁</td>\n      <td>contradiction</td>\n    </tr>\n    <tr>\n      <th>15</th>\n      <td>他现在钱都没有留给孩子,从现在开始,目前查克正以每年4亿美元的速度散财</td>\n      <td>查克每年都在散财</td>\n      <td>entailment</td>\n    </tr>\n    <tr>\n      <th>16</th>\n      <td>(开始各说各话),你讲,你讲,(讲真,印度英语真不容易懂)</td>\n      <td>印度英语可以学会</td>\n      <td>neutral</td>\n    </tr>\n    <tr>\n      <th>17</th>\n      <td>嗯,买计算机也要钱啊.</td>\n      <td>除了买计算机外还要买别的东西。</td>\n      <td>entailment</td>\n    </tr>\n    <tr>\n      <th>18</th>\n      <td>迹象表明,在前6轮谈判取得进展的基础上,双方有可能克服最后分歧,达成停火协议</td>\n      <td>双方处于和平状态</td>\n      <td>contradiction</td>\n    </tr>\n    <tr>\n      <th>19</th>\n      <td>过圣诞的事,是由这城市里最摩登的人物担任</td>\n      <td>过圣诞的事情,由外城人来办</td>\n      <td>contradiction</td>\n    </tr>\n    <tr>\n      <th>20</th>\n      <td>重点建设取得新成就</td>\n      <td>建设必须抓重点</td>\n      <td>neutral</td>\n    </tr>\n    <tr>\n      <th>21</th>\n      <td>双方官员以及中英、中葡联合联络小组通过磋商,就有关顺利过渡的一系列问题达成了协议</td>\n      <td>中国官员在此次磋商中起了重要的作用。</td>\n      <td>neutral</td>\n    </tr>\n    <tr>\n      <th>22</th>\n      <td>算了,我回去再跟你讲啦.</td>\n      <td>是很重要的事情。</td>\n      <td>neutral</td>\n    </tr>\n    <tr>\n      <th>23</th>\n      <td>紧扣国家发展战略,加快实施一批重点项目</td>\n      <td>很多项目将会被实施</td>\n      <td>entailment</td>\n    </tr>\n    <tr>\n      <th>24</th>\n      <td>中国有一句俗话你可能听过,叫把它生米先做成熟饭,就是这个意思</td>\n      <td>中国的俗话我一句都不知道</td>\n      <td>contradiction</td>\n    </tr>\n    <tr>\n      <th>25</th>\n      <td>全是叫生计熬炼的,挤子汁,沥干水,凝结成块,怎么样的激荡也泛不起来</td>\n      <td>温度很低</td>\n      <td>neutral</td>\n    </tr>\n    <tr>\n      <th>26</th>\n      <td>然后,另外一个人进来,他说你看我眼睛,一看他说就是他,他说没审我就知道肯定是这个人了</td>\n      <td>这个人是罪犯</td>\n      <td>neutral</td>\n    </tr>\n    <tr>\n      <th>27</th>\n      <td>五是改进社会治理方式,保持社会和谐稳定</td>\n      <td>社会治理无需关注</td>\n      <td>contradiction</td>\n    </tr>\n    <tr>\n      <th>28</th>\n      <td>以后,想帮家里安个电话.</td>\n      <td>是孩子说的</td>\n      <td>neutral</td>\n    </tr>\n    <tr>\n      <th>29</th>\n      <td>以前要多的多啊,没事儿.</td>\n      <td>以前是现在的两倍</td>\n      <td>neutral</td>\n    </tr>\n    <tr>\n      <th>30</th>\n      <td>这样的夜晚真是很凄凉,无思无想,也没有梦,就像死了一样</td>\n      <td>这个夜晚很冷</td>\n      <td>neutral</td>\n    </tr>\n    <tr>\n      <th>31</th>\n      <td>国内生产总值突破3万亿元大关,比上年增长百分之十三点四</td>\n      <td>去年国内生产总值小于三万亿</td>\n      <td>entailment</td>\n    </tr>\n  </tbody>\n</table>\n</div>",
      "text/plain": [
       "                                            sentence1           sentence2  \\\n",
       "0                   七五期间开始,国家又投资将武汉市区的部分土堤改建为钢筋泥凝土防水墙     八五期间会把剩下的土堤都改建完   \n",
       "1           相反,一些小摊小贩乘机抬高食品的价格,主要是风味小吃和饮料,来抠我们本已羞涩的腰包         我们手头目前都比较宽裕   \n",
       "2                   它是没有章法,乱了套的,也不按规矩来,到哪算哪的,有点流氓地痞气的    这里章法指的是中华人民共和国宪法   \n",
       "3                                我们要继续向贫困宣战,决不让贫困代代相传         贫困现象已经有所好转。   \n",
       "4                                        她又说:阿二怎么养阿姐呢         她从没听说过阿二和阿姐   \n",
       "5         张永红禁不住惭愧地想:她们这时代的时尚,只不过是前朝几代的零头,她们要补的课实在太多了   张永红为她们这个时代的时尚感到骄傲   \n",
       "6   中国一贯奉行独立自主的和平外交政策,支持世界人民的正义事业,反对霸权主义,维护世界和平,促进...           我国只注重自己发展   \n",
       "7                                         年内要重点抓好五个方面          要重点避免这五个方面   \n",
       "8                             散会后,几个负责人边走边议论说:刁市长动真格啦         几个负责人没有参加会议   \n",
       "9                        通过增加居民收入提高消费能力,完善消费政策,培育消费热点       消费是经济增长的重要因素。   \n",
       "10                                         其实我觉得你不懂球啊              你不懂篮球。   \n",
       "11                         散步后,小平同志在省市负责人陪同下,乘车观光深圳市容           省市负责人是深圳的   \n",
       "12                                  你看潘老师,这是主要符合观众特点的     潘老师是一名受到观众欢迎的演员   \n",
       "13                                            ,“我瞅你咋地               我就要瞅你   \n",
       "14                             柔弱如王琦瑶,除了耐心还有什么可作争取的武器           王琦瑶做事情很急躁   \n",
       "15                他现在钱都没有留给孩子,从现在开始,目前查克正以每年4亿美元的速度散财            查克每年都在散财   \n",
       "16                      (开始各说各话),你讲,你讲,(讲真,印度英语真不容易懂)            印度英语可以学会   \n",
       "17                                        嗯,买计算机也要钱啊.     除了买计算机外还要买别的东西。   \n",
       "18             迹象表明,在前6轮谈判取得进展的基础上,双方有可能克服最后分歧,达成停火协议            双方处于和平状态   \n",
       "19                               过圣诞的事,是由这城市里最摩登的人物担任       过圣诞的事情,由外城人来办   \n",
       "20                                          重点建设取得新成就             建设必须抓重点   \n",
       "21           双方官员以及中英、中葡联合联络小组通过磋商,就有关顺利过渡的一系列问题达成了协议  中国官员在此次磋商中起了重要的作用。   \n",
       "22                                       算了,我回去再跟你讲啦.            是很重要的事情。   \n",
       "23                                紧扣国家发展战略,加快实施一批重点项目           很多项目将会被实施   \n",
       "24                     中国有一句俗话你可能听过,叫把它生米先做成熟饭,就是这个意思        中国的俗话我一句都不知道   \n",
       "25                  全是叫生计熬炼的,挤子汁,沥干水,凝结成块,怎么样的激荡也泛不起来                温度很低   \n",
       "26         然后,另外一个人进来,他说你看我眼睛,一看他说就是他,他说没审我就知道肯定是这个人了              这个人是罪犯   \n",
       "27                                五是改进社会治理方式,保持社会和谐稳定            社会治理无需关注   \n",
       "28                                       以后,想帮家里安个电话.               是孩子说的   \n",
       "29                                       以前要多的多啊,没事儿.            以前是现在的两倍   \n",
       "30                        这样的夜晚真是很凄凉,无思无想,也没有梦,就像死了一样              这个夜晚很冷   \n",
       "31                        国内生产总值突破3万亿元大关,比上年增长百分之十三点四       去年国内生产总值小于三万亿   \n",
       "\n",
       "            label  \n",
       "0         neutral  \n",
       "1   contradiction  \n",
       "2         neutral  \n",
       "3         neutral  \n",
       "4   contradiction  \n",
       "5   contradiction  \n",
       "6   contradiction  \n",
       "7   contradiction  \n",
       "8   contradiction  \n",
       "9      entailment  \n",
       "10        neutral  \n",
       "11     entailment  \n",
       "12        neutral  \n",
       "13     entailment  \n",
       "14  contradiction  \n",
       "15     entailment  \n",
       "16        neutral  \n",
       "17     entailment  \n",
       "18  contradiction  \n",
       "19  contradiction  \n",
       "20        neutral  \n",
       "21        neutral  \n",
       "22        neutral  \n",
       "23     entailment  \n",
       "24  contradiction  \n",
       "25        neutral  \n",
       "26        neutral  \n",
       "27  contradiction  \n",
       "28        neutral  \n",
       "29        neutral  \n",
       "30        neutral  \n",
       "31     entailment  "
      ]
     },
     "execution_count": 25,
     "metadata": {},
     "output_type": "execute_result"
    }
   ],
   "source": [
    "train_df"
   ]
  },
  {
   "cell_type": "code",
   "execution_count": 19,
   "metadata": {},
   "outputs": [
    {
     "data": {
      "text/html": "<div>\n<style scoped>\n    .dataframe tbody tr th:only-of-type {\n        vertical-align: middle;\n    }\n\n    .dataframe tbody tr th {\n        vertical-align: top;\n    }\n\n    .dataframe thead th {\n        text-align: right;\n    }\n</style>\n<table border=\"1\" class=\"dataframe\">\n  <thead>\n    <tr style=\"text-align: right;\">\n      <th></th>\n      <th>sentence</th>\n      <th>label</th>\n    </tr>\n  </thead>\n  <tbody>\n    <tr>\n      <th>0</th>\n      <td>对黑龙江省东部五星Cu-Ni-Pt-Pd矿床的矿体和与成矿有关的镁铁质杂岩的PGE-Au以及...</td>\n      <td>地质学/地质资源与地质工程</td>\n    </tr>\n    <tr>\n      <th>1</th>\n      <td>塔中地区是塔里木盆地的重点勘探区域,奥陶系鹰山组蕴藏了丰富的油气资源.鹰山组发育大套台地相碳...</td>\n      <td>地质学/地质资源与地质工程</td>\n    </tr>\n    <tr>\n      <th>2</th>\n      <td>笔者根据地壳表层构造与深部构造相结合原则,提出岩石圈构造单元划分应遵循的6条原则.根据地质和...</td>\n      <td>地质学/地质资源与地质工程</td>\n    </tr>\n    <tr>\n      <th>3</th>\n      <td>石笋凭借其准确的年代学和对洞穴外界环境的敏感响应,已经成为第四纪研究的重要力量.亚洲季风区轨...</td>\n      <td>地质学/地质资源与地质工程</td>\n    </tr>\n    <tr>\n      <th>4</th>\n      <td>花垣-张家界断裂带作为雪峰山隆起带北西部的一条重要断裂带,其活动历史包含了隆起带很多的演化信...</td>\n      <td>地质学/地质资源与地质工程</td>\n    </tr>\n    <tr>\n      <th>...</th>\n      <td>...</td>\n      <td>...</td>\n    </tr>\n    <tr>\n      <th>1779</th>\n      <td>近年来“身体”重回社会学的讨论视野,女性主义运动对身体社会学的重新回归起到了重要推动作用,该...</td>\n      <td>社会学</td>\n    </tr>\n    <tr>\n      <th>1780</th>\n      <td>文章从就业年限、就业状况、职业中断和长寿风险四个方面分析了名义账户养老金制度对女性养老金权益...</td>\n      <td>社会学</td>\n    </tr>\n    <tr>\n      <th>1781</th>\n      <td>社会结构中的代际冲突与青年话语的变迁密切相关.由于代沟的不可消弭,不同代之间可以表现为三种关...</td>\n      <td>社会学</td>\n    </tr>\n    <tr>\n      <th>1782</th>\n      <td>本文运用萨伊德(Edward Said)的\"理论旅行\"的概念以及巴赫金(Mikhial Ba...</td>\n      <td>社会学</td>\n    </tr>\n    <tr>\n      <th>1783</th>\n      <td>近年来,大陆部分高校开设的女性文学课程将性别范畴引入文学.与一般文学类选修课相比,这门课程有...</td>\n      <td>社会学</td>\n    </tr>\n  </tbody>\n</table>\n<p>1784 rows × 2 columns</p>\n</div>",
      "text/plain": "                                               sentence          label\n0     对黑龙江省东部五星Cu-Ni-Pt-Pd矿床的矿体和与成矿有关的镁铁质杂岩的PGE-Au以及...  地质学/地质资源与地质工程\n1     塔中地区是塔里木盆地的重点勘探区域,奥陶系鹰山组蕴藏了丰富的油气资源.鹰山组发育大套台地相碳...  地质学/地质资源与地质工程\n2     笔者根据地壳表层构造与深部构造相结合原则,提出岩石圈构造单元划分应遵循的6条原则.根据地质和...  地质学/地质资源与地质工程\n3     石笋凭借其准确的年代学和对洞穴外界环境的敏感响应,已经成为第四纪研究的重要力量.亚洲季风区轨...  地质学/地质资源与地质工程\n4     花垣-张家界断裂带作为雪峰山隆起带北西部的一条重要断裂带,其活动历史包含了隆起带很多的演化信...  地质学/地质资源与地质工程\n...                                                 ...            ...\n1779  近年来“身体”重回社会学的讨论视野,女性主义运动对身体社会学的重新回归起到了重要推动作用,该...            社会学\n1780  文章从就业年限、就业状况、职业中断和长寿风险四个方面分析了名义账户养老金制度对女性养老金权益...            社会学\n1781  社会结构中的代际冲突与青年话语的变迁密切相关.由于代沟的不可消弭,不同代之间可以表现为三种关...            社会学\n1782  本文运用萨伊德(Edward Said)的\"理论旅行\"的概念以及巴赫金(Mikhial Ba...            社会学\n1783  近年来,大陆部分高校开设的女性文学课程将性别范畴引入文学.与一般文学类选修课相比,这门课程有...            社会学\n\n[1784 rows x 2 columns]"
     },
     "execution_count": 19,
     "metadata": {},
     "output_type": "execute_result"
    }
   ],
   "source": [
    "csldcp_df = pd.read_csv('/home/guoao/AI/FewCLUE/datasets/lm-bff/csldcp/test_public.csv', index_col=False, names=['sentence', 'label'])\n",
    "csldcp_df"
   ]
  },
  {
   "cell_type": "code",
   "execution_count": 16,
   "metadata": {},
   "outputs": [
    {
     "data": {
      "text/plain": "206.25280269058297"
     },
     "execution_count": 16,
     "metadata": {},
     "output_type": "execute_result"
    }
   ],
   "source": [
    "sum([len(x) for x in csldcp_df['sentence']]) / len(csldcp_df)"
   ]
  },
  {
   "cell_type": "code",
   "execution_count": 17,
   "metadata": {},
   "outputs": [
    {
     "data": {
      "text/plain": "药学             30\n生物学/生物科学与工程    30\n基础医学/临床医学      30\n水产             30\n冶金工程           30\n               ..\n社会学             9\n心理学             6\n航空宇航科学与技术       5\n天文学             1\n地球物理学           1\nName: label, Length: 66, dtype: int64"
     },
     "execution_count": 17,
     "metadata": {},
     "output_type": "execute_result"
    }
   ],
   "source": [
    "csldcp_df['label'].value_counts()"
   ]
  },
  {
   "cell_type": "code",
   "execution_count": 2,
   "metadata": {},
   "outputs": [
    {
     "data": {
      "text/html": "<div>\n<style scoped>\n    .dataframe tbody tr th:only-of-type {\n        vertical-align: middle;\n    }\n\n    .dataframe tbody tr th {\n        vertical-align: top;\n    }\n\n    .dataframe thead th {\n        text-align: right;\n    }\n</style>\n<table border=\"1\" class=\"dataframe\">\n  <thead>\n    <tr style=\"text-align: right;\">\n      <th></th>\n      <th>abst</th>\n      <th>keyword</th>\n      <th>label</th>\n    </tr>\n  </thead>\n  <tbody>\n    <tr>\n      <th>0</th>\n      <td>免疫磁珠是免疫微球的一种,它是包被有单克隆抗体的球型磁性微粒,可特异性地与靶物质结合使之具有...</td>\n      <td>['综述', '循环肿瘤细胞', '免疫磁珠技术']</td>\n      <td>1</td>\n    </tr>\n    <tr>\n      <th>1</th>\n      <td>针对船舶航行中的混沌运动控制问题,从船舶操纵运动非线性模型入手,提出了一种基于受控混沌系统M...</td>\n      <td>['同宿轨道', '航向保持', '参量微扰', '矩形脉冲']</td>\n      <td>1</td>\n    </tr>\n    <tr>\n      <th>2</th>\n      <td>以Fe3O4为磁性内核,SiO2修饰的Fe3O4为载体,采用凝胶法制备核-壳结构的磁性TiO...</td>\n      <td>['活性艳蓝', '拟合', '光催化剂']</td>\n      <td>1</td>\n    </tr>\n    <tr>\n      <th>3</th>\n      <td>距离模糊一直是影响合成孔径雷达(SAR)成像质量的重要因素之一。方位向相位编码(APC)技术...</td>\n      <td>['方位向相位编码', '距离模糊抑制', '多通道']</td>\n      <td>1</td>\n    </tr>\n    <tr>\n      <th>4</th>\n      <td>以酚醛树脂为碳源,采用球磨-热解工艺制备了一系列Si/C复合负极材料,通过XRD、SEM、恒...</td>\n      <td>['热解温度', '电化学性能', '锂离子电池']</td>\n      <td>1</td>\n    </tr>\n    <tr>\n      <th>...</th>\n      <td>...</td>\n      <td>...</td>\n      <td>...</td>\n    </tr>\n    <tr>\n      <th>2833</th>\n      <td>简要介绍了铝青铜合金的主要性能和应用现状.综述了铝青铜中主要合金元素及其他微量元素Al、Fe...</td>\n      <td>['性能', '固溶时效', '综合性能', '工艺']</td>\n      <td>0</td>\n    </tr>\n    <tr>\n      <th>2834</th>\n      <td>针对具有强反射的表面光条图像出现散斑或复合散斑等严重噪声情况,该文提出一种利用分数阶微分增强...</td>\n      <td>['图像去噪', '熵', '分数阶微分', '熵']</td>\n      <td>0</td>\n    </tr>\n    <tr>\n      <th>2835</th>\n      <td>在刑事案件中,若刑事加害人对被害人损失的赔偿能够表明刑事加害人真诚悔罪了,能够表明刑事加害人...</td>\n      <td>['被害人', '刑事责任', '阶段', '裁量']</td>\n      <td>0</td>\n    </tr>\n    <tr>\n      <th>2836</th>\n      <td>空间正义理论从空间的维度考察正义问题,弥补了正义的空间缺失.我国城乡发展的二元化结构造成了空...</td>\n      <td>['机制', '空间正义', '正义', '二元化']</td>\n      <td>0</td>\n    </tr>\n    <tr>\n      <th>2837</th>\n      <td>首次将掺杂镍离子的Na1.6Co2O4材料用作超级电容器的电极材料,并进行了XRD、SEM的...</td>\n      <td>['电化学性能', 'Na1.6', '材料', '掺杂']</td>\n      <td>0</td>\n    </tr>\n  </tbody>\n</table>\n<p>2838 rows × 3 columns</p>\n</div>",
      "text/plain": "                                                   abst  \\\n0     免疫磁珠是免疫微球的一种,它是包被有单克隆抗体的球型磁性微粒,可特异性地与靶物质结合使之具有...   \n1     针对船舶航行中的混沌运动控制问题,从船舶操纵运动非线性模型入手,提出了一种基于受控混沌系统M...   \n2     以Fe3O4为磁性内核,SiO2修饰的Fe3O4为载体,采用凝胶法制备核-壳结构的磁性TiO...   \n3     距离模糊一直是影响合成孔径雷达(SAR)成像质量的重要因素之一。方位向相位编码(APC)技术...   \n4     以酚醛树脂为碳源,采用球磨-热解工艺制备了一系列Si/C复合负极材料,通过XRD、SEM、恒...   \n...                                                 ...   \n2833  简要介绍了铝青铜合金的主要性能和应用现状.综述了铝青铜中主要合金元素及其他微量元素Al、Fe...   \n2834  针对具有强反射的表面光条图像出现散斑或复合散斑等严重噪声情况,该文提出一种利用分数阶微分增强...   \n2835  在刑事案件中,若刑事加害人对被害人损失的赔偿能够表明刑事加害人真诚悔罪了,能够表明刑事加害人...   \n2836  空间正义理论从空间的维度考察正义问题,弥补了正义的空间缺失.我国城乡发展的二元化结构造成了空...   \n2837  首次将掺杂镍离子的Na1.6Co2O4材料用作超级电容器的电极材料,并进行了XRD、SEM的...   \n\n                               keyword  label  \n0           ['综述', '循环肿瘤细胞', '免疫磁珠技术']      1  \n1     ['同宿轨道', '航向保持', '参量微扰', '矩形脉冲']      1  \n2               ['活性艳蓝', '拟合', '光催化剂']      1  \n3         ['方位向相位编码', '距离模糊抑制', '多通道']      1  \n4           ['热解温度', '电化学性能', '锂离子电池']      1  \n...                                ...    ...  \n2833      ['性能', '固溶时效', '综合性能', '工艺']      0  \n2834       ['图像去噪', '熵', '分数阶微分', '熵']      0  \n2835       ['被害人', '刑事责任', '阶段', '裁量']      0  \n2836       ['机制', '空间正义', '正义', '二元化']      0  \n2837    ['电化学性能', 'Na1.6', '材料', '掺杂']      0  \n\n[2838 rows x 3 columns]"
     },
     "execution_count": 2,
     "metadata": {},
     "output_type": "execute_result"
    }
   ],
   "source": [
    "csl_df = pd.read_csv('/home/guoao/AI/FewCLUE/datasets/lm-bff/csl/test_public.csv', index_col=False, names=['abst', 'keyword', 'label'], usecols=[1, 2, 3])\n",
    "csl_df"
   ]
  },
  {
   "cell_type": "code",
   "execution_count": 13,
   "metadata": {},
   "outputs": [
    {
     "name": "stdout",
     "output_type": "stream",
     "text": [
      "综述,循环肿瘤细胞,免疫磁珠技术\n",
      "同宿轨道,航向保持,参量微扰,矩形脉冲\n",
      "活性艳蓝,拟合,光催化剂\n",
      "方位向相位编码,距离模糊抑制,多通道\n",
      "热解温度,电化学性能,锂离子电池\n"
     ]
    }
   ],
   "source": [
    "for i, line in enumerate(csl_df.values.tolist()):\n",
    "    if i == 5:\n",
    "        break\n",
    "    print(','.join(eval(line[1])))"
   ]
  },
  {
   "cell_type": "code",
   "execution_count": 14,
   "metadata": {},
   "outputs": [
    {
     "data": {
      "text/plain": "278.5348837209302"
     },
     "execution_count": 14,
     "metadata": {},
     "output_type": "execute_result"
    }
   ],
   "source": [
    "sum([len(x) for x in csl_df['abst']]) / len(csl_df)"
   ]
  },
  {
   "cell_type": "code",
   "execution_count": null,
   "metadata": {},
   "outputs": [],
   "source": []
  }
 ],
 "metadata": {
  "kernelspec": {
   "display_name": "Python 3.8.8 64-bit ('lm-bff': conda)",
   "name": "python388jvsc74a57bd0a03a4a6a07aad4171b121921a56a85c376328998c02a66b239f568ab16823a56"
  },
  "language_info": {
   "codemirror_mode": {
    "name": "ipython",
    "version": 3
   },
   "file_extension": ".py",
   "mimetype": "text/x-python",
   "name": "python",
   "nbconvert_exporter": "python",
   "pygments_lexer": "ipython3",
   "version": "3.8.8"
  },
  "metadata": {
   "interpreter": {
    "hash": "a03a4a6a07aad4171b121921a56a85c376328998c02a66b239f568ab16823a56"
   }
  },
  "orig_nbformat": 2
 },
 "nbformat": 4,
 "nbformat_minor": 2
}